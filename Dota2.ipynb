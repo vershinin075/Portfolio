{
 "cells": [
  {
   "cell_type": "markdown",
   "metadata": {
    "colab_type": "text",
    "id": "GfkmyI58wjbt"
   },
   "source": [
    "# Исследование по данным игры Dota2\n",
    "## Часть 1\n",
    "## Загрузка необходимых библиотек\n",
    "\n",
    "Для работы нам понадобятся библиотеки:\n",
    "\n",
    "- **pandas**: при помощи нее мы считаем из файла таблицу с данными  \n",
    "- **sklearn**: библиотека для машинного обучения, из нее нам понадобится модуль **tree** для работы с решающими деревьями\n",
    "- **matplotlib**: библиотека для визуализации данных\n",
    "- **seaborn**: по сути matplotlib на максималках - позволяет легко делать сложные визуализации"
   ]
  },
  {
   "cell_type": "code",
   "execution_count": 1,
   "metadata": {
    "colab": {},
    "colab_type": "code",
    "id": "z6JWaPMexEiZ"
   },
   "outputs": [],
   "source": [
    "# Подключаем нужные библиотеки\n",
    "\n",
    "import pandas as pd\n",
    "import numpy as np\n",
    "from sklearn import tree\n",
    "\n",
    "import matplotlib.pyplot as plt\n",
    "import seaborn as sns\n",
    "\n",
    "%matplotlib inline"
   ]
  },
  {
   "cell_type": "markdown",
   "metadata": {
    "colab_type": "text",
    "id": "qOjB9X0qxRP3"
   },
   "source": [
    "### Загружаем данные при помощи библиотеки `pandas`\n",
    "\n",
    "В файле `dota2_skill_train.csv` содержатся данные о матчах, показателях игрока и показателях за последние 16 матчей \n",
    "почти по 100,000 игроков в Dota2"
   ]
  },
  {
   "cell_type": "code",
   "execution_count": 2,
   "metadata": {
    "colab": {},
    "colab_type": "code",
    "id": "YPtbalB-ycxM"
   },
   "outputs": [],
   "source": [
    "# Для чтения данных используем метод read_csv\n",
    "\n",
    "table = pd.read_csv('dota2_skill_train.csv', index_col='id')"
   ]
  },
  {
   "cell_type": "markdown",
   "metadata": {
    "colab_type": "text",
    "id": "MtVjjFcGyq1Z"
   },
   "source": [
    "Посмотреть на первые строчки таблицы можно при помощи метода `head():`"
   ]
  },
  {
   "cell_type": "code",
   "execution_count": 3,
   "metadata": {
    "colab": {
     "base_uri": "https://localhost:8080/",
     "height": 204
    },
    "colab_type": "code",
    "id": "THYQXt-Rytfe",
    "outputId": "55f0e802-fbd3-4bf4-c81e-9d80d0373f68"
   },
   "outputs": [
    {
     "data": {
      "text/html": [
       "<div>\n",
       "<style scoped>\n",
       "    .dataframe tbody tr th:only-of-type {\n",
       "        vertical-align: middle;\n",
       "    }\n",
       "\n",
       "    .dataframe tbody tr th {\n",
       "        vertical-align: top;\n",
       "    }\n",
       "\n",
       "    .dataframe thead th {\n",
       "        text-align: right;\n",
       "    }\n",
       "</style>\n",
       "<table border=\"1\" class=\"dataframe\">\n",
       "  <thead>\n",
       "    <tr style=\"text-align: right;\">\n",
       "      <th></th>\n",
       "      <th>skilled</th>\n",
       "      <th>player_team</th>\n",
       "      <th>winner_team</th>\n",
       "      <th>duration</th>\n",
       "      <th>pre_game_duration</th>\n",
       "      <th>first_blood_time</th>\n",
       "      <th>first_blood_claimed</th>\n",
       "      <th>hero_id</th>\n",
       "      <th>hero_pick_order</th>\n",
       "      <th>leaver_status</th>\n",
       "      <th>...</th>\n",
       "      <th>avg_deaths_x16</th>\n",
       "      <th>avg_assists_x16</th>\n",
       "      <th>avg_gpm_x16</th>\n",
       "      <th>avg_xpm_x16</th>\n",
       "      <th>best_kills_x16</th>\n",
       "      <th>best_assists_x16</th>\n",
       "      <th>best_gpm_x16</th>\n",
       "      <th>best_xpm_x16</th>\n",
       "      <th>win_streak</th>\n",
       "      <th>best_win_streak</th>\n",
       "    </tr>\n",
       "    <tr>\n",
       "      <th>id</th>\n",
       "      <th></th>\n",
       "      <th></th>\n",
       "      <th></th>\n",
       "      <th></th>\n",
       "      <th></th>\n",
       "      <th></th>\n",
       "      <th></th>\n",
       "      <th></th>\n",
       "      <th></th>\n",
       "      <th></th>\n",
       "      <th></th>\n",
       "      <th></th>\n",
       "      <th></th>\n",
       "      <th></th>\n",
       "      <th></th>\n",
       "      <th></th>\n",
       "      <th></th>\n",
       "      <th></th>\n",
       "      <th></th>\n",
       "      <th></th>\n",
       "      <th></th>\n",
       "    </tr>\n",
       "  </thead>\n",
       "  <tbody>\n",
       "    <tr>\n",
       "      <th>193401</th>\n",
       "      <td>0</td>\n",
       "      <td>radiant</td>\n",
       "      <td>radiant</td>\n",
       "      <td>1983</td>\n",
       "      <td>90</td>\n",
       "      <td>301</td>\n",
       "      <td>0</td>\n",
       "      <td>70</td>\n",
       "      <td>10</td>\n",
       "      <td>0</td>\n",
       "      <td>...</td>\n",
       "      <td>3</td>\n",
       "      <td>8</td>\n",
       "      <td>436</td>\n",
       "      <td>518</td>\n",
       "      <td>28</td>\n",
       "      <td>19</td>\n",
       "      <td>617</td>\n",
       "      <td>718</td>\n",
       "      <td>4</td>\n",
       "      <td>4</td>\n",
       "    </tr>\n",
       "    <tr>\n",
       "      <th>193403</th>\n",
       "      <td>1</td>\n",
       "      <td>radiant</td>\n",
       "      <td>dire</td>\n",
       "      <td>2268</td>\n",
       "      <td>90</td>\n",
       "      <td>0</td>\n",
       "      <td>0</td>\n",
       "      <td>36</td>\n",
       "      <td>7</td>\n",
       "      <td>0</td>\n",
       "      <td>...</td>\n",
       "      <td>8</td>\n",
       "      <td>12</td>\n",
       "      <td>496</td>\n",
       "      <td>591</td>\n",
       "      <td>23</td>\n",
       "      <td>29</td>\n",
       "      <td>744</td>\n",
       "      <td>838</td>\n",
       "      <td>0</td>\n",
       "      <td>5</td>\n",
       "    </tr>\n",
       "    <tr>\n",
       "      <th>193404</th>\n",
       "      <td>0</td>\n",
       "      <td>dire</td>\n",
       "      <td>dire</td>\n",
       "      <td>2426</td>\n",
       "      <td>90</td>\n",
       "      <td>70</td>\n",
       "      <td>1</td>\n",
       "      <td>48</td>\n",
       "      <td>4</td>\n",
       "      <td>0</td>\n",
       "      <td>...</td>\n",
       "      <td>6</td>\n",
       "      <td>12</td>\n",
       "      <td>556</td>\n",
       "      <td>573</td>\n",
       "      <td>30</td>\n",
       "      <td>31</td>\n",
       "      <td>819</td>\n",
       "      <td>858</td>\n",
       "      <td>1</td>\n",
       "      <td>4</td>\n",
       "    </tr>\n",
       "    <tr>\n",
       "      <th>193407</th>\n",
       "      <td>1</td>\n",
       "      <td>dire</td>\n",
       "      <td>radiant</td>\n",
       "      <td>2059</td>\n",
       "      <td>90</td>\n",
       "      <td>55</td>\n",
       "      <td>0</td>\n",
       "      <td>111</td>\n",
       "      <td>2</td>\n",
       "      <td>0</td>\n",
       "      <td>...</td>\n",
       "      <td>9</td>\n",
       "      <td>13</td>\n",
       "      <td>268</td>\n",
       "      <td>397</td>\n",
       "      <td>13</td>\n",
       "      <td>22</td>\n",
       "      <td>383</td>\n",
       "      <td>589</td>\n",
       "      <td>0</td>\n",
       "      <td>1</td>\n",
       "    </tr>\n",
       "    <tr>\n",
       "      <th>193409</th>\n",
       "      <td>1</td>\n",
       "      <td>radiant</td>\n",
       "      <td>radiant</td>\n",
       "      <td>2004</td>\n",
       "      <td>90</td>\n",
       "      <td>109</td>\n",
       "      <td>0</td>\n",
       "      <td>105</td>\n",
       "      <td>10</td>\n",
       "      <td>0</td>\n",
       "      <td>...</td>\n",
       "      <td>10</td>\n",
       "      <td>10</td>\n",
       "      <td>384</td>\n",
       "      <td>410</td>\n",
       "      <td>17</td>\n",
       "      <td>17</td>\n",
       "      <td>553</td>\n",
       "      <td>678</td>\n",
       "      <td>3</td>\n",
       "      <td>3</td>\n",
       "    </tr>\n",
       "  </tbody>\n",
       "</table>\n",
       "<p>5 rows × 57 columns</p>\n",
       "</div>"
      ],
      "text/plain": [
       "        skilled player_team winner_team  duration  pre_game_duration  \\\n",
       "id                                                                     \n",
       "193401        0     radiant     radiant      1983                 90   \n",
       "193403        1     radiant        dire      2268                 90   \n",
       "193404        0        dire        dire      2426                 90   \n",
       "193407        1        dire     radiant      2059                 90   \n",
       "193409        1     radiant     radiant      2004                 90   \n",
       "\n",
       "        first_blood_time  first_blood_claimed  hero_id  hero_pick_order  \\\n",
       "id                                                                        \n",
       "193401               301                    0       70               10   \n",
       "193403                 0                    0       36                7   \n",
       "193404                70                    1       48                4   \n",
       "193407                55                    0      111                2   \n",
       "193409               109                    0      105               10   \n",
       "\n",
       "        leaver_status  ...  avg_deaths_x16  avg_assists_x16  avg_gpm_x16  \\\n",
       "id                     ...                                                 \n",
       "193401              0  ...               3                8          436   \n",
       "193403              0  ...               8               12          496   \n",
       "193404              0  ...               6               12          556   \n",
       "193407              0  ...               9               13          268   \n",
       "193409              0  ...              10               10          384   \n",
       "\n",
       "        avg_xpm_x16  best_kills_x16  best_assists_x16  best_gpm_x16  \\\n",
       "id                                                                    \n",
       "193401          518              28                19           617   \n",
       "193403          591              23                29           744   \n",
       "193404          573              30                31           819   \n",
       "193407          397              13                22           383   \n",
       "193409          410              17                17           553   \n",
       "\n",
       "        best_xpm_x16  win_streak  best_win_streak  \n",
       "id                                                 \n",
       "193401           718           4                4  \n",
       "193403           838           0                5  \n",
       "193404           858           1                4  \n",
       "193407           589           0                1  \n",
       "193409           678           3                3  \n",
       "\n",
       "[5 rows x 57 columns]"
      ]
     },
     "execution_count": 3,
     "metadata": {},
     "output_type": "execute_result"
    }
   ],
   "source": [
    "# Вызываем метод head у объекта table\n",
    "\n",
    "table.tail()"
   ]
  },
  {
   "cell_type": "markdown",
   "metadata": {
    "colab_type": "text",
    "id": "S498S4m9zCdh"
   },
   "source": [
    "##### В этой таблице 57 колонок:\n",
    "\n",
    "56 признаков и целевая переменная для этой задачи\n",
    "- **skilled**: 1 (опытный игрок), 0 (новичок) "
   ]
  },
  {
   "cell_type": "markdown",
   "metadata": {
    "colab_type": "text",
    "id": "8yXmOKOu0lOq"
   },
   "source": [
    "### Формируем обучающую выборку\n",
    "\n",
    "Алгоритмы машинного обучения получают на вход выборку, которая представлена:\n",
    "- матрицей **`X`** (ее строчки соответствуют игрокам, столбцы — признакам) \n",
    "- вектором **`y`** из правильных ответов  \n",
    "\n",
    "\n",
    "**Мы будем предсказывать \"опытный игрок или нет\" по данным о скорости зарабатывания золота (`gold_per_min`) и общей стоимости всего инвентаря героя (`net_worth`)**"
   ]
  },
  {
   "cell_type": "code",
   "execution_count": 4,
   "metadata": {
    "colab": {},
    "colab_type": "code",
    "id": "5j-kxoZBz9OI"
   },
   "outputs": [],
   "source": [
    "# Берем все строки и оставляем столбцы 'net_worth' и 'gold_per_min' \n",
    "X = table.loc[:, ['net_worth', 'gold_per_min']]\n",
    "\n",
    "# В качестве целевой переменной берем колонку skilled\n",
    "y = table['skilled']"
   ]
  },
  {
   "cell_type": "markdown",
   "metadata": {
    "colab_type": "text",
    "id": "xUsssPra07fH"
   },
   "source": [
    "### Обучаем классификатор\n",
    "\n",
    "Для этого необходимо:  \n",
    "\n",
    "1. Импортировать из библиотеки нужный классификатор, в нашем случае — DecisionTreeClassifier\n",
    "2. Передать его в переменную (создать объект классификатора)  \n",
    "3. Указать при его создании все необходимые параметры \n",
    "4. Вызвать метод `fit` (что в переводе с английского — обучить, подстроить), передав ему обучающую выборку\n",
    "\n"
   ]
  },
  {
   "cell_type": "code",
   "execution_count": 5,
   "metadata": {
    "colab": {
     "base_uri": "https://localhost:8080/",
     "height": 119
    },
    "colab_type": "code",
    "id": "F0Jfv2XX2Eye",
    "outputId": "420c9094-538b-4406-ad2b-fe852591b324"
   },
   "outputs": [
    {
     "data": {
      "text/plain": [
       "DecisionTreeClassifier(ccp_alpha=0.0, class_weight=None, criterion='gini',\n",
       "                       max_depth=2, max_features=None, max_leaf_nodes=None,\n",
       "                       min_impurity_decrease=0.0, min_impurity_split=None,\n",
       "                       min_samples_leaf=1, min_samples_split=2,\n",
       "                       min_weight_fraction_leaf=0.0, presort='deprecated',\n",
       "                       random_state=None, splitter='best')"
      ]
     },
     "execution_count": 5,
     "metadata": {},
     "output_type": "execute_result"
    }
   ],
   "source": [
    "# Создаем объект классификатора classifier с глубиной дерева 2\n",
    "classifier = tree.DecisionTreeClassifier(max_depth=2)\n",
    "\n",
    "# Обучаем классификатор на подготовленной выборке\n",
    "classifier.fit(X, y)"
   ]
  },
  {
   "cell_type": "markdown",
   "metadata": {
    "colab_type": "text",
    "id": "LikgGU-r2H82"
   },
   "source": [
    "### Построение предсказания по новым данным\n",
    "\n",
    "После того как классификатор (`classifier`) был обучен для предсказания можно использовать его готовый метод `predict`, который принимает на вход матрицу X с новыми данными о неком игроке. \n",
    "\n",
    "Так как для обучения были использованы два определенных признака, новые данные должны тоже должны содержать две колонки с информацией по этим признакам: net_worth и gold_per_min "
   ]
  },
  {
   "cell_type": "code",
   "execution_count": 6,
   "metadata": {
    "colab": {
     "base_uri": "https://localhost:8080/",
     "height": 34
    },
    "colab_type": "code",
    "id": "_UC-8gp14tBE",
    "outputId": "81cc7af5-d40f-41a3-d819-b47dc0b401ed",
    "scrolled": true
   },
   "outputs": [
    {
     "name": "stdout",
     "output_type": "stream",
     "text": [
      "Предсказанная метка skilled:  [0]\n"
     ]
    }
   ],
   "source": [
    "# Создаем матрицу, состоящую из одной строчки и двух столбцов:\n",
    "# net_worth = a\n",
    "# gold_per_min = b\n",
    "new_data = [[5124, 60]]\n",
    "\n",
    "# Предсказываем опытность игрока вызывая метод predict уже обученного классификатора\n",
    "prediction = classifier.predict(new_data)\n",
    "\n",
    "# Выводим результат\n",
    "print(\"Предсказанная метка skilled: \", prediction)"
   ]
  },
  {
   "cell_type": "markdown",
   "metadata": {
    "colab_type": "text",
    "id": "Cz73s-p25fS1"
   },
   "source": [
    "В результате получаем вектор (список) из предсказанных ответов. \n",
    "\n",
    "Поскольку матрица бсодержит параметры по одному игроку, то и выходной список состоит из одного элемента."
   ]
  },
  {
   "cell_type": "markdown",
   "metadata": {},
   "source": [
    "## Часть 2\n",
    "## Визуализация данных"
   ]
  },
  {
   "cell_type": "markdown",
   "metadata": {},
   "source": [
    "Посмотрим еще раз на данные"
   ]
  },
  {
   "cell_type": "code",
   "execution_count": 7,
   "metadata": {},
   "outputs": [
    {
     "data": {
      "text/html": [
       "<div>\n",
       "<style scoped>\n",
       "    .dataframe tbody tr th:only-of-type {\n",
       "        vertical-align: middle;\n",
       "    }\n",
       "\n",
       "    .dataframe tbody tr th {\n",
       "        vertical-align: top;\n",
       "    }\n",
       "\n",
       "    .dataframe thead th {\n",
       "        text-align: right;\n",
       "    }\n",
       "</style>\n",
       "<table border=\"1\" class=\"dataframe\">\n",
       "  <thead>\n",
       "    <tr style=\"text-align: right;\">\n",
       "      <th></th>\n",
       "      <th>skilled</th>\n",
       "      <th>player_team</th>\n",
       "      <th>winner_team</th>\n",
       "      <th>duration</th>\n",
       "      <th>pre_game_duration</th>\n",
       "      <th>first_blood_time</th>\n",
       "      <th>first_blood_claimed</th>\n",
       "      <th>hero_id</th>\n",
       "      <th>hero_pick_order</th>\n",
       "      <th>leaver_status</th>\n",
       "      <th>...</th>\n",
       "      <th>avg_deaths_x16</th>\n",
       "      <th>avg_assists_x16</th>\n",
       "      <th>avg_gpm_x16</th>\n",
       "      <th>avg_xpm_x16</th>\n",
       "      <th>best_kills_x16</th>\n",
       "      <th>best_assists_x16</th>\n",
       "      <th>best_gpm_x16</th>\n",
       "      <th>best_xpm_x16</th>\n",
       "      <th>win_streak</th>\n",
       "      <th>best_win_streak</th>\n",
       "    </tr>\n",
       "    <tr>\n",
       "      <th>id</th>\n",
       "      <th></th>\n",
       "      <th></th>\n",
       "      <th></th>\n",
       "      <th></th>\n",
       "      <th></th>\n",
       "      <th></th>\n",
       "      <th></th>\n",
       "      <th></th>\n",
       "      <th></th>\n",
       "      <th></th>\n",
       "      <th></th>\n",
       "      <th></th>\n",
       "      <th></th>\n",
       "      <th></th>\n",
       "      <th></th>\n",
       "      <th></th>\n",
       "      <th></th>\n",
       "      <th></th>\n",
       "      <th></th>\n",
       "      <th></th>\n",
       "      <th></th>\n",
       "    </tr>\n",
       "  </thead>\n",
       "  <tbody>\n",
       "    <tr>\n",
       "      <th>7</th>\n",
       "      <td>1</td>\n",
       "      <td>dire</td>\n",
       "      <td>dire</td>\n",
       "      <td>2140</td>\n",
       "      <td>90</td>\n",
       "      <td>129</td>\n",
       "      <td>0</td>\n",
       "      <td>90</td>\n",
       "      <td>9</td>\n",
       "      <td>0</td>\n",
       "      <td>...</td>\n",
       "      <td>8</td>\n",
       "      <td>15</td>\n",
       "      <td>352</td>\n",
       "      <td>430</td>\n",
       "      <td>10</td>\n",
       "      <td>30</td>\n",
       "      <td>551</td>\n",
       "      <td>745</td>\n",
       "      <td>2</td>\n",
       "      <td>5</td>\n",
       "    </tr>\n",
       "    <tr>\n",
       "      <th>8</th>\n",
       "      <td>0</td>\n",
       "      <td>radiant</td>\n",
       "      <td>radiant</td>\n",
       "      <td>2138</td>\n",
       "      <td>90</td>\n",
       "      <td>174</td>\n",
       "      <td>0</td>\n",
       "      <td>5</td>\n",
       "      <td>5</td>\n",
       "      <td>0</td>\n",
       "      <td>...</td>\n",
       "      <td>9</td>\n",
       "      <td>19</td>\n",
       "      <td>294</td>\n",
       "      <td>425</td>\n",
       "      <td>13</td>\n",
       "      <td>37</td>\n",
       "      <td>445</td>\n",
       "      <td>717</td>\n",
       "      <td>2</td>\n",
       "      <td>12</td>\n",
       "    </tr>\n",
       "    <tr>\n",
       "      <th>12</th>\n",
       "      <td>0</td>\n",
       "      <td>radiant</td>\n",
       "      <td>radiant</td>\n",
       "      <td>3547</td>\n",
       "      <td>90</td>\n",
       "      <td>360</td>\n",
       "      <td>0</td>\n",
       "      <td>81</td>\n",
       "      <td>7</td>\n",
       "      <td>0</td>\n",
       "      <td>...</td>\n",
       "      <td>7</td>\n",
       "      <td>9</td>\n",
       "      <td>493</td>\n",
       "      <td>543</td>\n",
       "      <td>23</td>\n",
       "      <td>18</td>\n",
       "      <td>691</td>\n",
       "      <td>762</td>\n",
       "      <td>3</td>\n",
       "      <td>3</td>\n",
       "    </tr>\n",
       "    <tr>\n",
       "      <th>13</th>\n",
       "      <td>1</td>\n",
       "      <td>dire</td>\n",
       "      <td>radiant</td>\n",
       "      <td>1878</td>\n",
       "      <td>90</td>\n",
       "      <td>28</td>\n",
       "      <td>0</td>\n",
       "      <td>74</td>\n",
       "      <td>9</td>\n",
       "      <td>0</td>\n",
       "      <td>...</td>\n",
       "      <td>7</td>\n",
       "      <td>12</td>\n",
       "      <td>515</td>\n",
       "      <td>583</td>\n",
       "      <td>25</td>\n",
       "      <td>34</td>\n",
       "      <td>869</td>\n",
       "      <td>935</td>\n",
       "      <td>0</td>\n",
       "      <td>6</td>\n",
       "    </tr>\n",
       "    <tr>\n",
       "      <th>14</th>\n",
       "      <td>1</td>\n",
       "      <td>dire</td>\n",
       "      <td>radiant</td>\n",
       "      <td>2232</td>\n",
       "      <td>90</td>\n",
       "      <td>129</td>\n",
       "      <td>0</td>\n",
       "      <td>14</td>\n",
       "      <td>6</td>\n",
       "      <td>0</td>\n",
       "      <td>...</td>\n",
       "      <td>10</td>\n",
       "      <td>16</td>\n",
       "      <td>337</td>\n",
       "      <td>452</td>\n",
       "      <td>34</td>\n",
       "      <td>43</td>\n",
       "      <td>672</td>\n",
       "      <td>797</td>\n",
       "      <td>0</td>\n",
       "      <td>9</td>\n",
       "    </tr>\n",
       "  </tbody>\n",
       "</table>\n",
       "<p>5 rows × 57 columns</p>\n",
       "</div>"
      ],
      "text/plain": [
       "    skilled player_team winner_team  duration  pre_game_duration  \\\n",
       "id                                                                 \n",
       "7         1        dire        dire      2140                 90   \n",
       "8         0     radiant     radiant      2138                 90   \n",
       "12        0     radiant     radiant      3547                 90   \n",
       "13        1        dire     radiant      1878                 90   \n",
       "14        1        dire     radiant      2232                 90   \n",
       "\n",
       "    first_blood_time  first_blood_claimed  hero_id  hero_pick_order  \\\n",
       "id                                                                    \n",
       "7                129                    0       90                9   \n",
       "8                174                    0        5                5   \n",
       "12               360                    0       81                7   \n",
       "13                28                    0       74                9   \n",
       "14               129                    0       14                6   \n",
       "\n",
       "    leaver_status  ...  avg_deaths_x16  avg_assists_x16  avg_gpm_x16  \\\n",
       "id                 ...                                                 \n",
       "7               0  ...               8               15          352   \n",
       "8               0  ...               9               19          294   \n",
       "12              0  ...               7                9          493   \n",
       "13              0  ...               7               12          515   \n",
       "14              0  ...              10               16          337   \n",
       "\n",
       "    avg_xpm_x16  best_kills_x16  best_assists_x16  best_gpm_x16  best_xpm_x16  \\\n",
       "id                                                                              \n",
       "7           430              10                30           551           745   \n",
       "8           425              13                37           445           717   \n",
       "12          543              23                18           691           762   \n",
       "13          583              25                34           869           935   \n",
       "14          452              34                43           672           797   \n",
       "\n",
       "    win_streak  best_win_streak  \n",
       "id                               \n",
       "7            2                5  \n",
       "8            2               12  \n",
       "12           3                3  \n",
       "13           0                6  \n",
       "14           0                9  \n",
       "\n",
       "[5 rows x 57 columns]"
      ]
     },
     "execution_count": 7,
     "metadata": {},
     "output_type": "execute_result"
    }
   ],
   "source": [
    "table.head()"
   ]
  },
  {
   "cell_type": "markdown",
   "metadata": {},
   "source": [
    "Очень часто важно понимать какие значения принимает признак. Для ответа на этот вопрос нам поможет [гистограмма](https://ru.wikipedia.org/wiki/%D0%93%D0%B8%D1%81%D1%82%D0%BE%D0%B3%D1%80%D0%B0%D0%BC%D0%BC%D0%B0).\n",
    "\n",
    "Гистограмма выглядит следующим образом:\n",
    "- На оси **х** располагаются значения признака\n",
    "- А на оси **y** - количество строк с таким значением признака"
   ]
  },
  {
   "cell_type": "code",
   "execution_count": 8,
   "metadata": {},
   "outputs": [
    {
     "data": {
      "image/png": "[encoded data removed]",
      "text/plain": [
       "<Figure size 432x288 with 1 Axes>"
      ]
     },
     "metadata": {
      "needs_background": "light"
     },
     "output_type": "display_data"
    }
   ],
   "source": [
    "# Берем колонку gold_per_min - скорость зарабатывания золота\n",
    "# Строим график используя метод hist датафрейма table\n",
    "table.hist('gold_per_min', bins=50);"
   ]
  },
  {
   "cell_type": "markdown",
   "metadata": {},
   "source": [
    "Из гистограммы видно, что скорость зарабатывания золота принимает значения больше `1500` довольно редко. Сохраним в данных только те строки, где **gold_per_min** меньше `1500`."
   ]
  },
  {
   "cell_type": "code",
   "execution_count": 9,
   "metadata": {},
   "outputs": [],
   "source": [
    "# Сделаем новую таблицу, сокращенную\n",
    "table_truncated = table.query('gold_per_min < 1500')"
   ]
  },
  {
   "cell_type": "markdown",
   "metadata": {},
   "source": [
    "Давайте сравним размеры нового и исходного датафреймов"
   ]
  },
  {
   "cell_type": "code",
   "execution_count": 10,
   "metadata": {},
   "outputs": [
    {
     "name": "stdout",
     "output_type": "stream",
     "text": [
      "Размер table:  (99871, 57)\n",
      "Размер table_truncated:  (99535, 57)\n"
     ]
    }
   ],
   "source": [
    "# Для этого используем метод shape - он показывает сколько строк и столбцов содержатся в датафрейме\n",
    "print(\"Размер table: \", table.shape)\n",
    "print(\"Размер table_truncated: \", table_truncated.shape)"
   ]
  },
  {
   "cell_type": "markdown",
   "metadata": {},
   "source": [
    "Теперь гистограмма выглядит иначе"
   ]
  },
  {
   "cell_type": "code",
   "execution_count": 11,
   "metadata": {},
   "outputs": [
    {
     "data": {
      "image/png": "[encoded data removed]",
      "text/plain": [
       "<Figure size 432x288 with 1 Axes>"
      ]
     },
     "metadata": {
      "needs_background": "light"
     },
     "output_type": "display_data"
    }
   ],
   "source": [
    "# Строим график методом hist нового датафрейма table_truncated\n",
    "table_truncated.hist('gold_per_min', bins=50);"
   ]
  },
  {
   "cell_type": "markdown",
   "metadata": {},
   "source": [
    "**Совмещение нескольких гистограмм на одном графике позволяет обнаруживать закономерности в данных.**\n",
    "\n",
    "Например, рассмотрим показатель `gold` (число золота на момент игры), зависит ли чило золота от опыта игрока? \n",
    "\n",
    "Если нарисовать гистограммы `gold` для опытных игроков (голубой цвет) и для новичков (оранжевый), можно видеть существенное отличие гистограмм друг от друга, что намекает на наличие связи между опытом и количеством золота."
   ]
  },
  {
   "cell_type": "code",
   "execution_count": 12,
   "metadata": {},
   "outputs": [
    {
     "data": {
      "image/png": "[encoded data removed]",
      "text/plain": [
       "<Figure size 432x288 with 1 Axes>"
      ]
     },
     "metadata": {
      "needs_background": "light"
     },
     "output_type": "display_data"
    }
   ],
   "source": [
    "# Подготовим нужные выборки методом groupby\n",
    "# groupby группирует данные по значениям категориальной переменной, \n",
    "# что позволяет рисовать несколько графиков на одной картинке\n",
    "\n",
    "table_truncated.groupby('skilled')['gold'].hist(alpha=0.5, bins=50)\n",
    "plt.legend(table_truncated['skilled'].unique());"
   ]
  },
  {
   "cell_type": "markdown",
   "metadata": {},
   "source": [
    "Также метод groupby позволяет на ходу считать средние. Вот пример подсчета средних значений `gold` на разных уровнях категориальной переменной `skilled`."
   ]
  },
  {
   "cell_type": "code",
   "execution_count": 13,
   "metadata": {},
   "outputs": [
    {
     "data": {
      "text/plain": [
       "skilled\n",
       "0    1947.379907\n",
       "1    1933.366405\n",
       "Name: gold, dtype: float64"
      ]
     },
     "execution_count": 13,
     "metadata": {},
     "output_type": "execute_result"
    }
   ],
   "source": [
    "table_truncated.groupby('skilled')['gold'].mean()"
   ]
  },
  {
   "cell_type": "markdown",
   "metadata": {},
   "source": [
    "Сейчас вам кажется, что они почти одинаковы. И среднее количество золота у неопытных игроков даже больше - довольно странно, не правда ли?  \n",
    "\n",
    "И тут датасайентистам на помощь приходит **медиана** - это значение, расположенное посередине всей выборки. Половина всех возможных значений признака (в нашем случае gold) больше нее, а половина меньше. Это более информативный показатель, чем **среднее арифметическое** (mean). "
   ]
  },
  {
   "cell_type": "code",
   "execution_count": 14,
   "metadata": {},
   "outputs": [
    {
     "data": {
      "text/plain": [
       "skilled\n",
       "0    1398\n",
       "1    1411\n",
       "Name: gold, dtype: int64"
      ]
     },
     "execution_count": 14,
     "metadata": {},
     "output_type": "execute_result"
    }
   ],
   "source": [
    "table_truncated.groupby('skilled')['gold'].median()"
   ]
  },
  {
   "cell_type": "markdown",
   "metadata": {},
   "source": [
    "Как видите, у опытных игроков \"середина\" имеет большее значение, чем у неопытных - что уже совсем не противоречит здравому смыслу!"
   ]
  },
  {
   "cell_type": "markdown",
   "metadata": {},
   "source": [
    "### Проверим гипотезу\n",
    "\n",
    "Поскольку герои в игре развиваются с течением времени, зарабатывая золото и опыт, естественным образом возникает вопрос:   \n",
    "**\"Зависит ли скорость зарабатывания золота от скорости приобретения опыта, если да, то как?\"**\n",
    "\n",
    "Чтобы ответить на этот вопрос, достаточно построить график зависимости золота от опыта. В этом нам поможет [диаграмма рассеяния](https://ru.wikipedia.org/wiki/Диаграмма_рассеяния) (eng.: Scatter Plot), которая строится следующим образом:\n",
    "- Берется одна строка из таблицы данных\n",
    "- Значение показателя `xp_per_min` откладывается по оси x\n",
    "- Значение показателя `gold_per_min` откладывается по оси y\n",
    "- В результате получается точка на плоскости\n",
    "- Алгоритм повторяется для всех строк в данных"
   ]
  },
  {
   "cell_type": "code",
   "execution_count": 15,
   "metadata": {},
   "outputs": [
    {
     "data": {
      "image/png": "[encoded data removed]",
      "text/plain": [
       "<Figure size 432x288 with 1 Axes>"
      ]
     },
     "metadata": {
      "needs_background": "light"
     },
     "output_type": "display_data"
    }
   ],
   "source": [
    "# Диаграмму можно легко построить с помощью встроенной функции plot библитеки pandas\n",
    "table_truncated.plot(kind='scatter', x='xp_per_min', y='gold_per_min');"
   ]
  },
  {
   "cell_type": "code",
   "execution_count": 16,
   "metadata": {},
   "outputs": [
    {
     "data": {
      "image/png": "[encoded data removed]",
      "text/plain": [
       "<Figure size 648x360 with 1 Axes>"
      ]
     },
     "metadata": {
      "needs_background": "light"
     },
     "output_type": "display_data"
    }
   ],
   "source": [
    "# Либо с помощью matplotlib:\n",
    "# - figure - создает пустой холст\n",
    "# - scatter - наносит точки на холст\n",
    "# - show - отображает картинку\n",
    "\n",
    "plt.figure(figsize=(9, 5))\n",
    "plt.scatter(table_truncated['xp_per_min'], table_truncated['gold_per_min']);"
   ]
  },
  {
   "cell_type": "markdown",
   "metadata": {},
   "source": [
    "Из графика легко видеть, что между признаками **'xp_per_min'** и **'gold_per_min'** есть зависимость, причем линейная, т.е. существует формула\n",
    "$$gold = k \\cdot xp + b,$$\n",
    "где k и b - некоторые числовые константы."
   ]
  },
  {
   "cell_type": "markdown",
   "metadata": {},
   "source": [
    "Для того, чтобы посмотреть на взаимосвязь двух численных признаков в подробностях, у seaborn есть **joint plot** — это гибрид **scatter plot** и **histogram**. "
   ]
  },
  {
   "cell_type": "code",
   "execution_count": 17,
   "metadata": {
    "scrolled": false
   },
   "outputs": [
    {
     "data": {
      "image/png": "[encoded data removed]",
      "text/plain": [
       "<Figure size 432x432 with 3 Axes>"
      ]
     },
     "metadata": {
      "needs_background": "light"
     },
     "output_type": "display_data"
    }
   ],
   "source": [
    "sns.jointplot(x='xp_per_min', y='gold_per_min', data=table_truncated);"
   ]
  },
  {
   "cell_type": "markdown",
   "metadata": {},
   "source": [
    "## Часть 3\n",
    "## Построение моделей"
   ]
  },
  {
   "cell_type": "code",
   "execution_count": 18,
   "metadata": {},
   "outputs": [],
   "source": [
    "# Поделим данные на признаки и целевую переменную\n",
    "x = table.drop(['skilled'], axis = 1)\n",
    "y = table['skilled']"
   ]
  },
  {
   "cell_type": "markdown",
   "metadata": {},
   "source": [
    "По традиции проверим, что все считалось корректно"
   ]
  },
  {
   "cell_type": "code",
   "execution_count": 19,
   "metadata": {},
   "outputs": [
    {
     "data": {
      "text/html": [
       "<div>\n",
       "<style scoped>\n",
       "    .dataframe tbody tr th:only-of-type {\n",
       "        vertical-align: middle;\n",
       "    }\n",
       "\n",
       "    .dataframe tbody tr th {\n",
       "        vertical-align: top;\n",
       "    }\n",
       "\n",
       "    .dataframe thead th {\n",
       "        text-align: right;\n",
       "    }\n",
       "</style>\n",
       "<table border=\"1\" class=\"dataframe\">\n",
       "  <thead>\n",
       "    <tr style=\"text-align: right;\">\n",
       "      <th></th>\n",
       "      <th>player_team</th>\n",
       "      <th>winner_team</th>\n",
       "      <th>duration</th>\n",
       "      <th>pre_game_duration</th>\n",
       "      <th>first_blood_time</th>\n",
       "      <th>first_blood_claimed</th>\n",
       "      <th>hero_id</th>\n",
       "      <th>hero_pick_order</th>\n",
       "      <th>leaver_status</th>\n",
       "      <th>party_players</th>\n",
       "      <th>...</th>\n",
       "      <th>avg_deaths_x16</th>\n",
       "      <th>avg_assists_x16</th>\n",
       "      <th>avg_gpm_x16</th>\n",
       "      <th>avg_xpm_x16</th>\n",
       "      <th>best_kills_x16</th>\n",
       "      <th>best_assists_x16</th>\n",
       "      <th>best_gpm_x16</th>\n",
       "      <th>best_xpm_x16</th>\n",
       "      <th>win_streak</th>\n",
       "      <th>best_win_streak</th>\n",
       "    </tr>\n",
       "    <tr>\n",
       "      <th>id</th>\n",
       "      <th></th>\n",
       "      <th></th>\n",
       "      <th></th>\n",
       "      <th></th>\n",
       "      <th></th>\n",
       "      <th></th>\n",
       "      <th></th>\n",
       "      <th></th>\n",
       "      <th></th>\n",
       "      <th></th>\n",
       "      <th></th>\n",
       "      <th></th>\n",
       "      <th></th>\n",
       "      <th></th>\n",
       "      <th></th>\n",
       "      <th></th>\n",
       "      <th></th>\n",
       "      <th></th>\n",
       "      <th></th>\n",
       "      <th></th>\n",
       "      <th></th>\n",
       "    </tr>\n",
       "  </thead>\n",
       "  <tbody>\n",
       "    <tr>\n",
       "      <th>7</th>\n",
       "      <td>dire</td>\n",
       "      <td>dire</td>\n",
       "      <td>2140</td>\n",
       "      <td>90</td>\n",
       "      <td>129</td>\n",
       "      <td>0</td>\n",
       "      <td>90</td>\n",
       "      <td>9</td>\n",
       "      <td>0</td>\n",
       "      <td>3</td>\n",
       "      <td>...</td>\n",
       "      <td>8</td>\n",
       "      <td>15</td>\n",
       "      <td>352</td>\n",
       "      <td>430</td>\n",
       "      <td>10</td>\n",
       "      <td>30</td>\n",
       "      <td>551</td>\n",
       "      <td>745</td>\n",
       "      <td>2</td>\n",
       "      <td>5</td>\n",
       "    </tr>\n",
       "    <tr>\n",
       "      <th>8</th>\n",
       "      <td>radiant</td>\n",
       "      <td>radiant</td>\n",
       "      <td>2138</td>\n",
       "      <td>90</td>\n",
       "      <td>174</td>\n",
       "      <td>0</td>\n",
       "      <td>5</td>\n",
       "      <td>5</td>\n",
       "      <td>0</td>\n",
       "      <td>1</td>\n",
       "      <td>...</td>\n",
       "      <td>9</td>\n",
       "      <td>19</td>\n",
       "      <td>294</td>\n",
       "      <td>425</td>\n",
       "      <td>13</td>\n",
       "      <td>37</td>\n",
       "      <td>445</td>\n",
       "      <td>717</td>\n",
       "      <td>2</td>\n",
       "      <td>12</td>\n",
       "    </tr>\n",
       "    <tr>\n",
       "      <th>12</th>\n",
       "      <td>radiant</td>\n",
       "      <td>radiant</td>\n",
       "      <td>3547</td>\n",
       "      <td>90</td>\n",
       "      <td>360</td>\n",
       "      <td>0</td>\n",
       "      <td>81</td>\n",
       "      <td>7</td>\n",
       "      <td>0</td>\n",
       "      <td>1</td>\n",
       "      <td>...</td>\n",
       "      <td>7</td>\n",
       "      <td>9</td>\n",
       "      <td>493</td>\n",
       "      <td>543</td>\n",
       "      <td>23</td>\n",
       "      <td>18</td>\n",
       "      <td>691</td>\n",
       "      <td>762</td>\n",
       "      <td>3</td>\n",
       "      <td>3</td>\n",
       "    </tr>\n",
       "    <tr>\n",
       "      <th>13</th>\n",
       "      <td>dire</td>\n",
       "      <td>radiant</td>\n",
       "      <td>1878</td>\n",
       "      <td>90</td>\n",
       "      <td>28</td>\n",
       "      <td>0</td>\n",
       "      <td>74</td>\n",
       "      <td>9</td>\n",
       "      <td>0</td>\n",
       "      <td>2</td>\n",
       "      <td>...</td>\n",
       "      <td>7</td>\n",
       "      <td>12</td>\n",
       "      <td>515</td>\n",
       "      <td>583</td>\n",
       "      <td>25</td>\n",
       "      <td>34</td>\n",
       "      <td>869</td>\n",
       "      <td>935</td>\n",
       "      <td>0</td>\n",
       "      <td>6</td>\n",
       "    </tr>\n",
       "    <tr>\n",
       "      <th>14</th>\n",
       "      <td>dire</td>\n",
       "      <td>radiant</td>\n",
       "      <td>2232</td>\n",
       "      <td>90</td>\n",
       "      <td>129</td>\n",
       "      <td>0</td>\n",
       "      <td>14</td>\n",
       "      <td>6</td>\n",
       "      <td>0</td>\n",
       "      <td>2</td>\n",
       "      <td>...</td>\n",
       "      <td>10</td>\n",
       "      <td>16</td>\n",
       "      <td>337</td>\n",
       "      <td>452</td>\n",
       "      <td>34</td>\n",
       "      <td>43</td>\n",
       "      <td>672</td>\n",
       "      <td>797</td>\n",
       "      <td>0</td>\n",
       "      <td>9</td>\n",
       "    </tr>\n",
       "  </tbody>\n",
       "</table>\n",
       "<p>5 rows × 56 columns</p>\n",
       "</div>"
      ],
      "text/plain": [
       "   player_team winner_team  duration  pre_game_duration  first_blood_time  \\\n",
       "id                                                                          \n",
       "7         dire        dire      2140                 90               129   \n",
       "8      radiant     radiant      2138                 90               174   \n",
       "12     radiant     radiant      3547                 90               360   \n",
       "13        dire     radiant      1878                 90                28   \n",
       "14        dire     radiant      2232                 90               129   \n",
       "\n",
       "    first_blood_claimed  hero_id  hero_pick_order  leaver_status  \\\n",
       "id                                                                 \n",
       "7                     0       90                9              0   \n",
       "8                     0        5                5              0   \n",
       "12                    0       81                7              0   \n",
       "13                    0       74                9              0   \n",
       "14                    0       14                6              0   \n",
       "\n",
       "    party_players  ...  avg_deaths_x16  avg_assists_x16  avg_gpm_x16  \\\n",
       "id                 ...                                                 \n",
       "7               3  ...               8               15          352   \n",
       "8               1  ...               9               19          294   \n",
       "12              1  ...               7                9          493   \n",
       "13              2  ...               7               12          515   \n",
       "14              2  ...              10               16          337   \n",
       "\n",
       "    avg_xpm_x16  best_kills_x16  best_assists_x16  best_gpm_x16  best_xpm_x16  \\\n",
       "id                                                                              \n",
       "7           430              10                30           551           745   \n",
       "8           425              13                37           445           717   \n",
       "12          543              23                18           691           762   \n",
       "13          583              25                34           869           935   \n",
       "14          452              34                43           672           797   \n",
       "\n",
       "    win_streak  best_win_streak  \n",
       "id                               \n",
       "7            2                5  \n",
       "8            2               12  \n",
       "12           3                3  \n",
       "13           0                6  \n",
       "14           0                9  \n",
       "\n",
       "[5 rows x 56 columns]"
      ]
     },
     "execution_count": 19,
     "metadata": {},
     "output_type": "execute_result"
    }
   ],
   "source": [
    "# Выводим первые 5 строк таблицы признаков\n",
    "x.head()"
   ]
  },
  {
   "cell_type": "code",
   "execution_count": 20,
   "metadata": {},
   "outputs": [
    {
     "data": {
      "text/plain": [
       "id\n",
       "7     1\n",
       "8     0\n",
       "12    0\n",
       "13    1\n",
       "14    1\n",
       "Name: skilled, dtype: int64"
      ]
     },
     "execution_count": 20,
     "metadata": {},
     "output_type": "execute_result"
    }
   ],
   "source": [
    "# и первые 5 строк столбца целевой переменной\n",
    "y.head()"
   ]
  },
  {
   "cell_type": "markdown",
   "metadata": {},
   "source": [
    "Для задач классификации, как наша, очень важно знать - сбалансированы классы или нет. Другими словами: какое соотношение объектов разных классов в обучающей выборке?"
   ]
  },
  {
   "cell_type": "code",
   "execution_count": 21,
   "metadata": {},
   "outputs": [
    {
     "data": {
      "text/plain": [
       "0    60085\n",
       "1    39786\n",
       "Name: skilled, dtype: int64"
      ]
     },
     "execution_count": 21,
     "metadata": {},
     "output_type": "execute_result"
    }
   ],
   "source": [
    "# Для того, чтобы это проверить, используем метод value_counts() объекта y \n",
    "y.value_counts()"
   ]
  },
  {
   "cell_type": "markdown",
   "metadata": {},
   "source": [
    "Как видите, объектов класса \"0\" (неопытные игроки) в полтора раза больше, чем объектов класса \"1\" (опытные игроки). Это не самый большой дисбаланс классов, поэтому не волнуйтесь :)"
   ]
  },
  {
   "cell_type": "code",
   "execution_count": 22,
   "metadata": {},
   "outputs": [
    {
     "data": {
      "text/plain": [
       "Series([], dtype: int64)"
      ]
     },
     "execution_count": 22,
     "metadata": {},
     "output_type": "execute_result"
    }
   ],
   "source": [
    "# Также важно проверить, нет ли пропусков в данных\n",
    "count_missings = x.isnull().sum()\n",
    "count_missings[count_missings > 0]"
   ]
  },
  {
   "cell_type": "markdown",
   "metadata": {},
   "source": [
    "Какое везение! Все данные на месте, пропусков нет. В реальных задача такое бывает редко, но здесь организаторы соревнования о вас позаботились и подготовили очень хороший набор данных."
   ]
  },
  {
   "cell_type": "code",
   "execution_count": 23,
   "metadata": {},
   "outputs": [],
   "source": [
    "# Подготовим данные для алгоритма\n",
    "# Заменим строковые значения в колонках 'player_team' и 'winner_team' на числовые\n",
    "x['player_team'] = x['player_team'].apply(lambda x: 1 if x == 'dire' else 0)\n",
    "x['winner_team'] = x['winner_team'].apply(lambda x: 1 if x == 'dire' else 0)"
   ]
  },
  {
   "cell_type": "markdown",
   "metadata": {},
   "source": [
    "## Построение модели"
   ]
  },
  {
   "cell_type": "code",
   "execution_count": 24,
   "metadata": {},
   "outputs": [],
   "source": [
    "# Для начала разбиваем выборку на обучающую и валидационную (проверочную)\n",
    "\n",
    "# Загружаем нужный модуль: train_test_split \n",
    "from sklearn.model_selection import train_test_split\n",
    "\n",
    "# Создаем 4 новых переменных разделив выборки x и y по строкам в соотношении 2 к 1 (размер тестовой выборки = 0.33)\n",
    "# 2 для обучения модели (с префиксом _train) \n",
    "# и 2 для проверки (с префиксом _valid) \n",
    "\n",
    "x_train, x_validation, y_train, y_validation = train_test_split(x, y, test_size=.33, random_state=1)"
   ]
  },
  {
   "cell_type": "markdown",
   "metadata": {},
   "source": [
    "Как вы уже знаете, у каждого алгоритма машинного обучения есть масса параметров. Мы будем использовать алгоритм RandomForestClassifier - этот \"лес\" является ансамблем большого количества деревьев решений, о которых мы говорили в видеоуроках.   \n",
    "\n",
    "Чтобы не подбирать его параметры вручную, воспользуемся готовой библиотекой GridSearcCV, которой нужно передать набор значений какого-либо параметра (или нескольких) и дождаться результата."
   ]
  },
  {
   "cell_type": "code",
   "execution_count": 25,
   "metadata": {},
   "outputs": [
    {
     "name": "stdout",
     "output_type": "stream",
     "text": [
      "Fitting 5 folds for each of 3 candidates, totalling 15 fits\n"
     ]
    },
    {
     "name": "stderr",
     "output_type": "stream",
     "text": [
      "[Parallel(n_jobs=-1)]: Using backend LokyBackend with 8 concurrent workers.\n",
      "[Parallel(n_jobs=-1)]: Done   6 out of  15 | elapsed:   21.7s remaining:   32.6s\n",
      "[Parallel(n_jobs=-1)]: Done  12 out of  15 | elapsed:   43.5s remaining:   10.8s\n",
      "[Parallel(n_jobs=-1)]: Done  15 out of  15 | elapsed:   54.4s finished\n"
     ]
    },
    {
     "data": {
      "text/plain": [
       "GridSearchCV(cv=None, error_score=nan,\n",
       "             estimator=RandomForestClassifier(bootstrap=True, ccp_alpha=0.0,\n",
       "                                              class_weight=None,\n",
       "                                              criterion='gini', max_depth=None,\n",
       "                                              max_features='auto',\n",
       "                                              max_leaf_nodes=None,\n",
       "                                              max_samples=None,\n",
       "                                              min_impurity_decrease=0.0,\n",
       "                                              min_impurity_split=None,\n",
       "                                              min_samples_leaf=1,\n",
       "                                              min_samples_split=2,\n",
       "                                              min_weight_fraction_leaf=0.0,\n",
       "                                              n_estimators=100, n_jobs=None,\n",
       "                                              oob_score=False, random_state=322,\n",
       "                                              verbose=0, warm_start=False),\n",
       "             iid='deprecated', n_jobs=-1,\n",
       "             param_grid={'n_estimators': [10, 50, 100]},\n",
       "             pre_dispatch='2*n_jobs', refit=True, return_train_score=False,\n",
       "             scoring=None, verbose=3)"
      ]
     },
     "execution_count": 25,
     "metadata": {},
     "output_type": "execute_result"
    }
   ],
   "source": [
    "# Загружаем классификатор RandomForestClassifier\n",
    "from sklearn.ensemble import RandomForestClassifier\n",
    "\n",
    "# Загружаем GridSearchCV для подбора параметров\n",
    "from sklearn.model_selection import GridSearchCV\n",
    "\n",
    "# Задаем 'сетку' возможных значений - количество деревьев решений в \"лесу\"\n",
    "param_grid = {'n_estimators': [10, 50, 100]}\n",
    "\n",
    "# Создаем объект, в котором для нашего классификатора будет идти поиск лучших параметров\n",
    "clf = GridSearchCV(RandomForestClassifier(random_state=322), param_grid, verbose=3, n_jobs=-1)\n",
    "\n",
    "# Обучаем этот объект на подготовленных данных\n",
    "clf.fit(x_train, y_train)"
   ]
  },
  {
   "cell_type": "code",
   "execution_count": 26,
   "metadata": {},
   "outputs": [
    {
     "data": {
      "text/plain": [
       "RandomForestClassifier(bootstrap=True, ccp_alpha=0.0, class_weight=None,\n",
       "                       criterion='gini', max_depth=None, max_features='auto',\n",
       "                       max_leaf_nodes=None, max_samples=None,\n",
       "                       min_impurity_decrease=0.0, min_impurity_split=None,\n",
       "                       min_samples_leaf=1, min_samples_split=2,\n",
       "                       min_weight_fraction_leaf=0.0, n_estimators=100,\n",
       "                       n_jobs=None, oob_score=False, random_state=322,\n",
       "                       verbose=0, warm_start=False)"
      ]
     },
     "execution_count": 26,
     "metadata": {},
     "output_type": "execute_result"
    }
   ],
   "source": [
    "# Итак, подбор параметров окончен, посмотрим на \"лучший\" по мнению GridSearchCV классификатор\n",
    "best_clf = clf.best_estimator_\n",
    "best_clf"
   ]
  },
  {
   "cell_type": "markdown",
   "metadata": {},
   "source": [
    "Обратите внимание на параметр 'n_estimators=100' - получилось, что 100 деревьев самый лучшей вариант среди `[10, 50, 100]`."
   ]
  },
  {
   "cell_type": "markdown",
   "metadata": {},
   "source": [
    "### Оценим качество модели"
   ]
  },
  {
   "cell_type": "code",
   "execution_count": 27,
   "metadata": {},
   "outputs": [
    {
     "name": "stdout",
     "output_type": "stream",
     "text": [
      "Точность на валидации: 0.7124218702591176\n"
     ]
    }
   ],
   "source": [
    "# Теперь сделаем предсказание переменной 'skilled' на валидационной выборке и оценим качество модели\n",
    "\n",
    "# Загружаем модуль accuracy_score - который посчитает нам долю правильных ответов, \n",
    "# сравнив истинные значения y и предсказанные\n",
    "from sklearn.metrics import accuracy_score\n",
    "\n",
    "# Считаем долю правильных ответов\n",
    "validation_acc = accuracy_score(y_validation, best_clf.predict(x_validation))\n",
    "\n",
    "# Выводим на экран\n",
    "print('Точность на валидации:', validation_acc)"
   ]
  },
  {
   "cell_type": "markdown",
   "metadata": {},
   "source": [
    "Это значение говорит о том, что данный классификатор \"угадал\" 71% правильных ответов - согласитесь, не очень хороший предсказатель."
   ]
  }
 ],
 "metadata": {
  "colab": {
   "collapsed_sections": [],
   "name": "python_1.ipynb",
   "provenance": [],
   "version": "0.3.2"
  },
  "kernelspec": {
   "display_name": "Python 3",
   "language": "python",
   "name": "python3"
  },
  "language_info": {
   "codemirror_mode": {
    "name": "ipython",
    "version": 3
   },
   "file_extension": ".py",
   "mimetype": "text/x-python",
   "name": "python",
   "nbconvert_exporter": "python",
   "pygments_lexer": "ipython3",
   "version": "3.8.3"
  }
 },
 "nbformat": 4,
 "nbformat_minor": 1
}
